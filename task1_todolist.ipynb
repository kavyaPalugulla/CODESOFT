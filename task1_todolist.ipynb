{
 "cells": [
  {
   "cell_type": "code",
   "execution_count": 3,
   "id": "d0133abb-9410-4765-91ff-5b6974e1c7a4",
   "metadata": {},
   "outputs": [
    {
     "name": "stdout",
     "output_type": "stream",
     "text": [
      "\n",
      "                To Do List              \n",
      "\n",
      " you can enter as(1,2,3,4) your choice for metioned below task\n",
      "1.Add Task\n",
      "2.Show task list\n",
      "3.Mark task as done\n",
      "4.Exit\n"
     ]
    },
    {
     "name": "stdin",
     "output_type": "stream",
     "text": [
      "enter your choice 1\n",
      "how many task you want to add: 3\n",
      "enter your task: searching the project\n"
     ]
    },
    {
     "name": "stdout",
     "output_type": "stream",
     "text": [
      "Task added\n"
     ]
    },
    {
     "name": "stdin",
     "output_type": "stream",
     "text": [
      "enter your task: essentials for project\n"
     ]
    },
    {
     "name": "stdout",
     "output_type": "stream",
     "text": [
      "Task added\n"
     ]
    },
    {
     "name": "stdin",
     "output_type": "stream",
     "text": [
      "enter your task: starting the project\n"
     ]
    },
    {
     "name": "stdout",
     "output_type": "stream",
     "text": [
      "Task added\n",
      "\n",
      " you can enter as(1,2,3,4) your choice for metioned below task\n",
      "1.Add Task\n",
      "2.Show task list\n",
      "3.Mark task as done\n",
      "4.Exit\n"
     ]
    },
    {
     "name": "stdin",
     "output_type": "stream",
     "text": [
      "enter your choice 2\n"
     ]
    },
    {
     "name": "stdout",
     "output_type": "stream",
     "text": [
      "\n",
      "Tasks:\n",
      "1.searching the project-Not Done\n",
      "2.essentials for project-Not Done\n",
      "3.starting the project-Not Done\n",
      "\n",
      " you can enter as(1,2,3,4) your choice for metioned below task\n",
      "1.Add Task\n",
      "2.Show task list\n",
      "3.Mark task as done\n",
      "4.Exit\n"
     ]
    },
    {
     "name": "stdin",
     "output_type": "stream",
     "text": [
      "enter your choice 3\n",
      "enter the task number to mark as done: 1\n"
     ]
    },
    {
     "name": "stdout",
     "output_type": "stream",
     "text": [
      "task is done\n",
      "\n",
      " you can enter as(1,2,3,4) your choice for metioned below task\n",
      "1.Add Task\n",
      "2.Show task list\n",
      "3.Mark task as done\n",
      "4.Exit\n"
     ]
    },
    {
     "name": "stdin",
     "output_type": "stream",
     "text": [
      "enter your choice 3\n",
      "enter the task number to mark as done: 2\n"
     ]
    },
    {
     "name": "stdout",
     "output_type": "stream",
     "text": [
      "task is done\n",
      "\n",
      " you can enter as(1,2,3,4) your choice for metioned below task\n",
      "1.Add Task\n",
      "2.Show task list\n",
      "3.Mark task as done\n",
      "4.Exit\n"
     ]
    },
    {
     "name": "stdin",
     "output_type": "stream",
     "text": [
      "enter your choice 2\n"
     ]
    },
    {
     "name": "stdout",
     "output_type": "stream",
     "text": [
      "\n",
      "Tasks:\n",
      "1.searching the project-Not Done\n",
      "2.essentials for project-Done\n",
      "3.starting the project-Done\n",
      "\n",
      " you can enter as(1,2,3,4) your choice for metioned below task\n",
      "1.Add Task\n",
      "2.Show task list\n",
      "3.Mark task as done\n",
      "4.Exit\n"
     ]
    },
    {
     "name": "stdin",
     "output_type": "stream",
     "text": [
      "enter your choice 4\n"
     ]
    },
    {
     "name": "stdout",
     "output_type": "stream",
     "text": [
      "exiting the to do list\n"
     ]
    }
   ],
   "source": [
    "print(\"\\n                To Do List              \")\n",
    "def to_do_list():\n",
    "    tasks=[]\n",
    "    while(True):\n",
    "        print(\"\\n you can enter as(1,2,3,4) your choice for metioned below task\")\n",
    "        print(\"1.Add Task\")\n",
    "        print(\"2.Show task list\")\n",
    "        print(\"3.Mark task as done\")\n",
    "        print(\"4.Exit\")\n",
    "        choice=input(\"enter your choice\")\n",
    "        if(choice=='1'):\n",
    "            n_tasks=int(input(\"how many task you want to add:\"))\n",
    "            for i in range(n_tasks):\n",
    "                task=input(\"enter your task:\")\n",
    "                tasks.append({\"task\":task,\"done\":False})\n",
    "                print(\"Task added\")\n",
    "        elif(choice=='2'):\n",
    "            print(\"\\nTasks:\")\n",
    "            for index,task in enumerate(tasks):\n",
    "                status=\"Done\" if task[\"done\"] else \"Not Done\"\n",
    "                print(f\"{index+1}.{task['task']}-{status}\")\n",
    "        elif(choice==\"3\"):\n",
    "            task_index=int(input(\"enter the task number to mark as done:\"))\n",
    "            if(0<=task_index<len(tasks)):\n",
    "                tasks[task_index][\"done\"]=True\n",
    "                print(\"task is done\")\n",
    "            else:\n",
    "                print(\"invalid number\")\n",
    "        elif(choice=='4'):\n",
    "            print(\"exiting the to do list\")\n",
    "            break\n",
    "        else:\n",
    "            print(\"Invalid choice.please try again\")\n",
    "to_do_list()               "
   ]
  },
  {
   "cell_type": "code",
   "execution_count": null,
   "id": "288a5863-1837-40de-b5a0-7e7022344fe4",
   "metadata": {},
   "outputs": [],
   "source": []
  }
 ],
 "metadata": {
  "kernelspec": {
   "display_name": "Python 3 (ipykernel)",
   "language": "python",
   "name": "python3"
  },
  "language_info": {
   "codemirror_mode": {
    "name": "ipython",
    "version": 3
   },
   "file_extension": ".py",
   "mimetype": "text/x-python",
   "name": "python",
   "nbconvert_exporter": "python",
   "pygments_lexer": "ipython3",
   "version": "3.8.10"
  }
 },
 "nbformat": 4,
 "nbformat_minor": 5
}
