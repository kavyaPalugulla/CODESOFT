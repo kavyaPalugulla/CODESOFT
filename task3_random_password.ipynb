{
 "cells": [
  {
   "cell_type": "code",
   "execution_count": 13,
   "id": "d0c83bd1-f88a-41c1-ac12-60dc479ff16e",
   "metadata": {},
   "outputs": [
    {
     "name": "stdout",
     "output_type": "stream",
     "text": [
      "PASSWORD GENERATOR\n",
      "\n"
     ]
    },
    {
     "name": "stdin",
     "output_type": "stream",
     "text": [
      "enter the length of the password: 8\n"
     ]
    },
    {
     "name": "stdout",
     "output_type": "stream",
     "text": [
      "th generated password is:  8Bu3In+\"\n"
     ]
    }
   ],
   "source": [
    "import random\n",
    "letters=['a','b','c','d','e','f','g','h','i','j','k','l','m','n','o','p','q','r','s','t','u','v','w','x','y','z',\n",
    "         'A','B','C','D','E','F','G','H','I','J','K','L','M','N','O','P','Q','R','S','T','U','V','W','X','Y','Z']\n",
    "symbols=['!','@','#','~','`','?','(',')','_','-','%','*','+','<','>','/','=','|','{','}','[',']','^',',',';',':','\"','\"',' ']\n",
    "numbers=['1','2','3','4','5','6','7','8','9','0']\n",
    "print(\"PASSWORD GENERATOR\\n\")\n",
    "all_characters=letters+symbols+numbers\n",
    "password=\"\"\n",
    "length=int(input(\"enter the length of the password:\"))\n",
    "for i in range(length):\n",
    "    character=random.choice(all_characters)\n",
    "    password=password+character\n",
    "print(\"th generated password is: \",password)"
   ]
  }
 ],
 "metadata": {
  "kernelspec": {
   "display_name": "Python 3 (ipykernel)",
   "language": "python",
   "name": "python3"
  },
  "language_info": {
   "codemirror_mode": {
    "name": "ipython",
    "version": 3
   },
   "file_extension": ".py",
   "mimetype": "text/x-python",
   "name": "python",
   "nbconvert_exporter": "python",
   "pygments_lexer": "ipython3",
   "version": "3.8.10"
  }
 },
 "nbformat": 4,
 "nbformat_minor": 5
}
