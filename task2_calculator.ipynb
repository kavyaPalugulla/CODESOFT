{
 "cells": [
  {
   "cell_type": "code",
   "execution_count": 8,
   "id": "6ff90734-22be-4217-9824-602fa09feb48",
   "metadata": {},
   "outputs": [
    {
     "name": "stdout",
     "output_type": "stream",
     "text": [
      "calculator with basic arthmetic operations\n",
      "\n"
     ]
    },
    {
     "name": "stdin",
     "output_type": "stream",
     "text": [
      "enter the first number: 15\n",
      "enter the second number: 2\n",
      "enter the operator('+,-,*,/,%') %\n"
     ]
    },
    {
     "name": "stdout",
     "output_type": "stream",
     "text": [
      "the modulo between 15 and 2 is:1\n"
     ]
    }
   ],
   "source": [
    "print(\"calculator with basic arthmetic operations\\n\")\n",
    "number1=int(input(\"enter the first number:\"))\n",
    "number2=int(input(\"enter the second number:\"))\n",
    "operator=input(\"enter the operator('+,-,*,/,%')\")\n",
    "if(operator==\"+\"):\n",
    "    print(f\"the summation between {number1} and {number2} is:{number1+number2}\")\n",
    "elif(operator==\"-\"):\n",
    "    print(f\"the difference between {number1} and {number2} is:{number1-number2}\")\n",
    "elif(operator==\"*\"):\n",
    "    print(f\"the product/multiplication of {number1} and {number2} is:{number1*number2}\")\n",
    "elif(operator==\"/\"):\n",
    "    print(f\"the division between {number1} and {number2} is:{number1/number2}\")\n",
    "elif(operator==\"%\"):\n",
    "    print(f\"the modulo between {number1} and {number2} is:{number1%number2}\")\n",
    "else:\n",
    "    print(\"enter valid operator\")"
   ]
  },
  {
   "cell_type": "code",
   "execution_count": null,
   "id": "fbedb769-7c83-4355-b955-904962ef9bdf",
   "metadata": {},
   "outputs": [],
   "source": []
  }
 ],
 "metadata": {
  "kernelspec": {
   "display_name": "Python 3 (ipykernel)",
   "language": "python",
   "name": "python3"
  },
  "language_info": {
   "codemirror_mode": {
    "name": "ipython",
    "version": 3
   },
   "file_extension": ".py",
   "mimetype": "text/x-python",
   "name": "python",
   "nbconvert_exporter": "python",
   "pygments_lexer": "ipython3",
   "version": "3.8.10"
  }
 },
 "nbformat": 4,
 "nbformat_minor": 5
}
